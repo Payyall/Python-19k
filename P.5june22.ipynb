{
 "cells": [
  {
   "cell_type": "code",
   "execution_count": 24,
   "id": "432d33a4",
   "metadata": {},
   "outputs": [
    {
     "name": "stdout",
     "output_type": "stream",
     "text": [
      "True\n",
      "False\n",
      "True\n",
      "True\n",
      "True\n",
      "False\n",
      "False\n"
     ]
    }
   ],
   "source": [
    "## Operaters in python\n",
    "\n",
    "#4 Logical operaters - (and, or, not)- check weather a condition is true or false\n",
    "\n",
    "#and operator (if both the input are true then the ouput is true or else the output is false)\n",
    "\n",
    "print(10<50 and 20<100)  # 10 less than50 and 20 less then 100, so if both the conditions are true then the outcome willl be true\n",
    "\n",
    "print(10>5 and 5<3)   # bc the 2nd condition is false so the total output is false\n",
    "\n",
    "print(20>10 and 30>10)\n",
    "\n",
    "# or operators\n",
    "\n",
    "print(5>6 or 8<9) # bc the 2nd input is true so the optput is true in this only 1 input needs to be true.\n",
    "\n",
    "print(5>3 or 5>4)\n",
    "\n",
    "# not operators -- just reverse the condition\n",
    "\n",
    "print(not(10<50))   # 10 is less than 50 but not makes true-- false and false -- true\n",
    "\n",
    "print(not(5>1))"
   ]
  },
  {
   "cell_type": "code",
   "execution_count": 18,
   "id": "ba76f4b9",
   "metadata": {},
   "outputs": [
    {
     "data": {
      "text/plain": [
       "False"
      ]
     },
     "execution_count": 18,
     "metadata": {},
     "output_type": "execute_result"
    }
   ],
   "source": [
    "# Identity  -- Check if they are same objects or not - Memory location(is and is not)\n",
    "\n",
    "a = 10\n",
    "b = 20\n",
    "a is b\n",
    "\n"
   ]
  },
  {
   "cell_type": "code",
   "execution_count": 21,
   "id": "5159abb0",
   "metadata": {},
   "outputs": [
    {
     "data": {
      "text/plain": [
       "True"
      ]
     },
     "execution_count": 21,
     "metadata": {},
     "output_type": "execute_result"
    }
   ],
   "source": [
    "a = 10\n",
    "b = 10\n",
    "\n",
    "a is b\n",
    "\n"
   ]
  },
  {
   "cell_type": "code",
   "execution_count": 22,
   "id": "d8ec34f3",
   "metadata": {},
   "outputs": [
    {
     "name": "stdout",
     "output_type": "stream",
     "text": [
      "1722015181392\n",
      "10\n",
      "1722015181392\n",
      "10\n"
     ]
    },
    {
     "data": {
      "text/plain": [
       "True"
      ]
     },
     "execution_count": 22,
     "metadata": {},
     "output_type": "execute_result"
    }
   ],
   "source": [
    "a = 10\n",
    "print(id(a))\n",
    "print(a)\n",
    "b = 10\n",
    "print(id(b))\n",
    "print(b)\n",
    "a is b"
   ]
  },
  {
   "cell_type": "code",
   "execution_count": 29,
   "id": "305a39d4",
   "metadata": {},
   "outputs": [
    {
     "name": "stdout",
     "output_type": "stream",
     "text": [
      "True\n",
      "False\n",
      "True\n",
      "1722101849344\n",
      "1722130242496\n",
      "1722101849344\n"
     ]
    }
   ],
   "source": [
    "a= [1,2,3]\n",
    "b= [1,2,3]   \n",
    "c= a\n",
    "\n",
    "print (a is c)  # (same memory location) is is used to know that weather the object has same \"memory location\" or not\n",
    "print(a is b)   #(different memory location)\n",
    "print(a==b) # (comparision operator)== is used to know weather the objects has \"samevalue\" or not\n",
    "\n",
    "print(id(a))\n",
    "print(id(b))\n",
    "print(id(c))"
   ]
  },
  {
   "cell_type": "code",
   "execution_count": 3,
   "id": "f1fe5151",
   "metadata": {},
   "outputs": [
    {
     "name": "stdout",
     "output_type": "stream",
     "text": [
      "hi\n",
      "3\n",
      "1\n",
      "False\n",
      "True\n",
      "False\n",
      "1875249080320\n",
      "1875249080000\n",
      "1875249080320\n"
     ]
    }
   ],
   "source": [
    "a = [1,2,3,\"hi\"]  ## indexing\n",
    "b = [1,2,3]\n",
    "c = a \n",
    "print(a[-1])\n",
    "print(b[-1])\n",
    "print(b[0])\n",
    "\n",
    "print(a is b)\n",
    "print(a is c)\n",
    "print(a==b)\n",
    "\n",
    "print(id(a))\n",
    "print(id(b))\n",
    "print(id(c))"
   ]
  },
  {
   "cell_type": "code",
   "execution_count": 77,
   "id": "174b7a3d",
   "metadata": {},
   "outputs": [
    {
     "name": "stdout",
     "output_type": "stream",
     "text": [
      "['shaheed', 'rajguru', 'college', 'of', 'apllied', 'science']\n",
      "shaheed\n",
      "['s', 'h', 'a', 'h', 'e', 'e', 'd']\n",
      "rajguru\n",
      "['r', 'a', 'j', 'g', 'u', 'r', 'u']\n",
      "college\n",
      "['c', 'o', 'l', 'l', 'e', 'g', 'e']\n",
      "a and both are not found\n",
      "of\n",
      "['o', 'f']\n",
      "a and both are not found\n",
      "apllied\n",
      "['a', 'p', 'l', 'l', 'i', 'e', 'd']\n",
      "science\n",
      "['s', 'c', 'i', 'e', 'n', 'c', 'e']\n",
      "a and both are not found\n",
      "3\n"
     ]
    }
   ],
   "source": [
    "# Checking the number of times a has apprearedin the sentance\n",
    "j=\"shaheed rajguru college of apllied science\"\n",
    "word=\"a\"\n",
    "f=\"e\"\n",
    "count=0\n",
    "string= j.split()\n",
    "print(string)\n",
    "for x in string:\n",
    "    print(x)\n",
    "    c=list(x)\n",
    "    print(c)\n",
    "    if word in c:\n",
    "        count+=1\n",
    "    else:\n",
    "        print(\"a and both are not found\")\n",
    "print(count)\n",
    "\n",
    "\n",
    "\n",
    "\n"
   ]
  },
  {
   "cell_type": "code",
   "execution_count": 82,
   "id": "c4fc263d",
   "metadata": {},
   "outputs": [
    {
     "name": "stdout",
     "output_type": "stream",
     "text": [
      "enter a0.6\n",
      "enter b7.8\n",
      "enter c6\n",
      "largest value is 7.8\n"
     ]
    }
   ],
   "source": [
    "a = float(input(\"enter a\"))\n",
    "b = float(input(\"enter b\"))\n",
    "c = int(input(\"enter c\"))\n",
    "\n",
    "if a>b and a>c:\n",
    "    print(\"largest value is\",a)\n",
    "elif b>a and b>c:\n",
    "    print(\"largest value is\", b)\n",
    "else:\n",
    "    print(\"largest value is\", c)"
   ]
  },
  {
   "cell_type": "code",
   "execution_count": 4,
   "id": "ca5e0824",
   "metadata": {},
   "outputs": [
    {
     "name": "stdout",
     "output_type": "stream",
     "text": [
      "['welcome', 'to', 'the', 'jungle']\n",
      "['hey!!', 'Payal', 'this', 'side']\n"
     ]
    }
   ],
   "source": [
    "txt = \"welcome to the jungle\"\n",
    "\n",
    "x = txt.split()\n",
    "\n",
    "print(x)\n",
    "\n",
    "t=\"hey!! Payal this side\"\n",
    "\n",
    "y= t.split()\n",
    "print(y)"
   ]
  },
  {
   "cell_type": "code",
   "execution_count": 86,
   "id": "72373f3f",
   "metadata": {},
   "outputs": [
    {
     "name": "stdout",
     "output_type": "stream",
     "text": [
      "apple a4\n",
      "banana b5\n",
      "chiku c6\n",
      "greatest value is 6.0\n"
     ]
    }
   ],
   "source": [
    "# Check which one is the greatest value\n",
    "x = int(input(\"apple a\"))\n",
    "y = int(input(\"banana b\"))\n",
    "z = float(input(\"chiku c\"))\n",
    "if x>y and x>z:\n",
    "    print(\"greatest value is\",x)\n",
    "elif y>x and y>z:\n",
    "    print(\"greatest value is\", y)\n",
    "else:\n",
    "    print(\"greatest value is\", z)"
   ]
  },
  {
   "cell_type": "code",
   "execution_count": null,
   "id": "35b18b2b",
   "metadata": {},
   "outputs": [],
   "source": [
    "# Check which one is the greatest value\n",
    "x = int(input(\"apple a\"))\n",
    "y = int(input(\"banana b\"))\n",
    "z = float(input(\"chiku c\"))\n",
    "if x<y and x<z:\n",
    "    print(\"greatest value is\",x)\n",
    "elif y<x and y<z:\n",
    "    print(\"greatest value is\", y)\n",
    "else:\n",
    "    print(\"greatest value is\", z)"
   ]
  },
  {
   "cell_type": "code",
   "execution_count": null,
   "id": "9d19d307",
   "metadata": {},
   "outputs": [],
   "source": [
    "# Arrange the given numbers in ascending foam\n",
    "x = int(input(\"put x\"))\n",
    "y = int(input(\" put y\"))\n",
    "z = int(input(\"put z\"))\n",
    "\n",
    "if x>y and x>z:\n",
    "    if y>z:\n",
    "        print(\"value is in ascending order\", z,y,x )\n",
    "    else:\n",
    "        print(\"value is in ascending order\", y,z,x )\n",
    "elif y>z and y>x:\n",
    "    if z>x:\n",
    "        print(\"value is in ascending order\", x,z,y)\n",
    "    else:\n",
    "        print(\"value is in ascending order\", z,x,y)\n",
    "else:\n",
    "    if x>y:\n",
    "        print(\"value is in ascending order\" , y,x,z)\n",
    "    else:\n",
    "        print(\"value is in ascending order\" , x,y,z)\n",
    "\n"
   ]
  },
  {
   "cell_type": "code",
   "execution_count": null,
   "id": "a9b190b1",
   "metadata": {},
   "outputs": [],
   "source": [
    "x = int(input(\"put x\"))\n",
    "y = int(input(\" put y\"))\n",
    "z = int(input(\"put z\"))\n",
    "\n",
    "if x>y and x>z:\n",
    "    if y>z:\n",
    "        print(\"value is in ascending order\", z,y,x )\n",
    "    else:\n",
    "        print(\"value is in ascending order\", y,z,x )\n",
    "elif y>z and y>x:\n",
    "    if z>x:\n",
    "        print(\"value is in ascending order\", x,z,y)\n",
    "    else:\n",
    "        print(\"value is in ascending order\", z,x,y)\n",
    "else:\n",
    "    if x>y:\n",
    "        print(\"value is in ascending order\" , y,x,z)\n",
    "    else:\n",
    "        print(\"value is in ascending order\" , x,y,z)\n",
    "\n"
   ]
  },
  {
   "cell_type": "code",
   "execution_count": null,
   "id": "f99750f8",
   "metadata": {},
   "outputs": [],
   "source": [
    "#check weather the given number is even or odd\n",
    "a = int(input(\"put a\"))\n",
    "b = int(input(\"put b\"))\n",
    "\n",
    "\n",
    "if a%2==0\n",
    "   print(\"this is even number\", a)\n",
    "else:\n",
    "    print(\"this is odd number\", b)"
   ]
  },
  {
   "cell_type": "code",
   "execution_count": 12,
   "id": "2bf30840",
   "metadata": {},
   "outputs": [
    {
     "name": "stdout",
     "output_type": "stream",
     "text": [
      "True\n",
      "False\n"
     ]
    },
    {
     "data": {
      "text/plain": [
       "False"
      ]
     },
     "execution_count": 12,
     "metadata": {},
     "output_type": "execute_result"
    }
   ],
   "source": [
    "# Membership  (in and not in ) Check if a sequence is present inan object.\n",
    "\n",
    "a = [1,2,3,4,5,6,7,8,9,]\n",
    "print(4 in a)  # when you write print it will show all the output of where print is there.\n",
    "print(3 not in a)\n",
    "[4,5] in a # false bc  you can check for a single digit only."
   ]
  },
  {
   "cell_type": "code",
   "execution_count": 7,
   "id": "1ce4cd09",
   "metadata": {},
   "outputs": [
    {
     "data": {
      "text/plain": [
       "True"
      ]
     },
     "execution_count": 7,
     "metadata": {},
     "output_type": "execute_result"
    }
   ],
   "source": [
    "b =[22,42,55,77,67,96]\n",
    "22 in b"
   ]
  },
  {
   "cell_type": "code",
   "execution_count": 16,
   "id": "4d6bf91e",
   "metadata": {},
   "outputs": [
    {
     "name": "stdout",
     "output_type": "stream",
     "text": [
      "10\n",
      "3\n",
      "9\n"
     ]
    }
   ],
   "source": [
    "# Variables in Python \n",
    "# rules for variabeles ( no special character,not start with numbers or have space in b/w; only capital and small letters and underscore(_))\n",
    "# valid variable names - are just used to denote something\n",
    "_payal = 10\n",
    "payal = 3\n",
    "Payal = 9\n",
    "print(_payal)\n",
    "print(payal)\n",
    "print(Payal)\n",
    "\n"
   ]
  },
  {
   "cell_type": "code",
   "execution_count": 17,
   "id": "a8dd735f",
   "metadata": {},
   "outputs": [
    {
     "ename": "SyntaxError",
     "evalue": "invalid syntax (780434826.py, line 3)",
     "output_type": "error",
     "traceback": [
      "\u001b[1;36m  Input \u001b[1;32mIn [17]\u001b[1;36m\u001b[0m\n\u001b[1;33m    @payal = 7\u001b[0m\n\u001b[1;37m           ^\u001b[0m\n\u001b[1;31mSyntaxError\u001b[0m\u001b[1;31m:\u001b[0m invalid syntax\n"
     ]
    }
   ],
   "source": [
    "# invalid vaiables names\n",
    "*z= 6\n",
    "@payal = 7"
   ]
  },
  {
   "cell_type": "code",
   "execution_count": 22,
   "id": "8b35e9d3",
   "metadata": {},
   "outputs": [
    {
     "data": {
      "text/plain": [
       "int"
      ]
     },
     "execution_count": 22,
     "metadata": {},
     "output_type": "execute_result"
    }
   ],
   "source": [
    "# Python Data Type \n",
    "# 1. Numbers\n",
    "\n",
    "type(10)\n"
   ]
  },
  {
   "cell_type": "code",
   "execution_count": 27,
   "id": "53e8d17b",
   "metadata": {},
   "outputs": [
    {
     "name": "stdout",
     "output_type": "stream",
     "text": [
      "<class 'int'>\n",
      "<class 'float'>\n",
      "<class 'complex'>\n",
      "<class 'int'>\n",
      "<class 'complex'>\n",
      "<class 'float'>\n"
     ]
    }
   ],
   "source": [
    "print(type(10))\n",
    "print(type(0.44))\n",
    "print(type(3+6j))\n",
    "\n",
    "print(type(10))\n",
    "print(type(7+5j))\n",
    "print(type(0.44))\n",
    "# these are 3 types on numbers  "
   ]
  },
  {
   "cell_type": "code",
   "execution_count": 24,
   "id": "22f300ff",
   "metadata": {},
   "outputs": [
    {
     "data": {
      "text/plain": [
       "'@@#$$'"
      ]
     },
     "execution_count": 24,
     "metadata": {},
     "output_type": "execute_result"
    }
   ],
   "source": [
    "#2. String--  (red in colour) anything that you have in double or single couts '' ; \"\" is a string . This can be:\n",
    "'12344'\n",
    "'India'\n",
    "'@@#$$'"
   ]
  },
  {
   "cell_type": "code",
   "execution_count": 25,
   "id": "182af62d",
   "metadata": {},
   "outputs": [
    {
     "name": "stdout",
     "output_type": "stream",
     "text": [
      "12344\n",
      "India\n",
      "@@#$$\n"
     ]
    }
   ],
   "source": [
    "print('12344')\n",
    "print('India')\n",
    "print('@@#$$')  # see when yoou have not written print in the above case you only got one output of the last input but when you have added print u got output of all input "
   ]
  },
  {
   "cell_type": "code",
   "execution_count": 26,
   "id": "63fee100",
   "metadata": {},
   "outputs": [
    {
     "name": "stdout",
     "output_type": "stream",
     "text": [
      "<class 'str'>\n",
      "<class 'str'>\n",
      "<class 'str'>\n"
     ]
    }
   ],
   "source": [
    "print(type('12344'))\n",
    "print(type('India'))\n",
    "print(type('@@#$$'))  # type is used to know what that data type is"
   ]
  },
  {
   "cell_type": "code",
   "execution_count": 30,
   "id": "72dbe08e",
   "metadata": {},
   "outputs": [
    {
     "name": "stdout",
     "output_type": "stream",
     "text": [
      "<class 'int'>\n",
      "<class 'float'>\n",
      "<class 'str'>\n",
      "<class 'int'>\n",
      "<class 'float'>\n",
      "<class 'str'>\n"
     ]
    }
   ],
   "source": [
    "# Exercise-- Create 3 variables assign a integer, float and string to them and check their type\n",
    "a=23\n",
    "b= 0.66\n",
    "c= 'Crazy love'\n",
    "\n",
    "print(type(a))\n",
    "print(type(b))\n",
    "print(type(c))\n",
    "\n",
    "print(type(23))\n",
    "print(type(0.76))\n",
    "print(type(\"hello there\"))\n",
    "\n"
   ]
  },
  {
   "cell_type": "code",
   "execution_count": 41,
   "id": "c8e76b1a",
   "metadata": {},
   "outputs": [
    {
     "name": "stdout",
     "output_type": "stream",
     "text": [
      "[1, 2, 3, 4, 5, 6]\n",
      "<class 'list'>\n",
      "1\n",
      "[2, 3, 56, 7, 7]\n",
      "<class 'list'>\n",
      "7\n"
     ]
    }
   ],
   "source": [
    "#3. Lists-- its a collection of object that is  in []\n",
    "# -- mutable ( the elements can be changed / you can change the content of the objects )\n",
    "\n",
    "a = [1,2,3,4,5,6]\n",
    "print(a)\n",
    "print(type(a))\n",
    "print(a[0])  # indexing\n",
    "\n",
    "n= [2,3,56,7,7]\n",
    "print(n)\n",
    "print(type(n))\n",
    "print(n[-1])"
   ]
  },
  {
   "cell_type": "code",
   "execution_count": 37,
   "id": "7a46611e",
   "metadata": {},
   "outputs": [
    {
     "name": "stdout",
     "output_type": "stream",
     "text": [
      "(1, 1, 2, 3, 4, 5)\n",
      "<class 'tuple'>\n",
      "(44, 66, 77, 33, 55)\n",
      "<class 'tuple'>\n"
     ]
    }
   ],
   "source": [
    "#4. Tuples --- Immutable (you cannot change the elements / content of the objects)\n",
    "# if you put the elements in round bracket it becomes a tuple\n",
    "\n",
    "a = (1,1,2,3,4,5)\n",
    "print(a)\n",
    "print(type(a))\n",
    "\n",
    "\n",
    "b=(44,66,77,33,55)\n",
    "print(b)\n",
    "print(type(b))"
   ]
  },
  {
   "cell_type": "code",
   "execution_count": 47,
   "id": "cc583215",
   "metadata": {},
   "outputs": [
    {
     "name": "stdout",
     "output_type": "stream",
     "text": [
      "{0, 1, 34, 3, 33, 8, 53, 55}\n",
      "<class 'set'>\n",
      "{0, 1, 34, 3, 33, 8, 53, 55}\n",
      "{33, 99, 6, 7, 44, 688, 55, 666}\n",
      "<class 'set'>\n",
      "{33, 99, 6, 7, 44, 688, 55, 666}\n"
     ]
    }
   ],
   "source": [
    "#5. Sets  -- Unordered and no duplicates: immutable; no indexing\n",
    "\n",
    "a = {1,34,55,0,8,53,33,33,33,3,3}\n",
    "print(a)\n",
    "print(type(a))\n",
    "print(a)\n",
    "\n",
    "b= {33,55,6,688,99,44,666,7}\n",
    "print(b)\n",
    "print(type(b))\n",
    "print(b)"
   ]
  },
  {
   "cell_type": "code",
   "execution_count": 53,
   "id": "9ec5b378",
   "metadata": {},
   "outputs": [
    {
     "name": "stdout",
     "output_type": "stream",
     "text": [
      "{'a': 10, 'b': 30, 'c': 40, 'v': 50}\n",
      "<class 'dict'>\n",
      "dict_keys(['a', 'b', 'c', 'v'])\n",
      "dict_values([10, 30, 40, 50])\n",
      "{4: 'd', '7': 5}\n",
      "<class 'dict'>\n",
      "dict_keys([4, '7'])\n",
      "dict_values(['d', 5])\n"
     ]
    }
   ],
   "source": [
    "#6. Dictionaries : Key value pairs\n",
    "\n",
    "a = {'a': 10, 'b':30, 'c': 40, 'v':50}\n",
    "print(a)\n",
    "print(type(a))\n",
    "\n",
    "print(a.keys())\n",
    "print(a.values())\n",
    "\n",
    "\n",
    "b= { 4:'d', '7': 5}\n",
    "print(b)\n",
    "print(type(b))\n",
    "print(b.keys())   # the 1st letter is always a key and the 2nd is a value\n",
    "print(b.values())\n"
   ]
  },
  {
   "cell_type": "code",
   "execution_count": 77,
   "id": "15c0b9e8",
   "metadata": {},
   "outputs": [
    {
     "name": "stdout",
     "output_type": "stream",
     "text": [
      "['I', 'N', 'D', 'I', 'A', 'N']\n",
      "<class 'list'>\n",
      "N\n",
      "['I', 'N', 'D']\n",
      "['I', 'N', 'D']\n",
      "['N', 'D', 'I', 'A', 'N']\n",
      "['N', 'D', 'I', 'A', 'N']\n",
      "['N', 'D', 'I']\n",
      "['N', 'D', 'I']\n",
      "['I', 'N', 'D', 'I']\n",
      "['I', 'N', 'D', 'I']\n",
      "['D', 'I', 'A']\n",
      "['D', 'I', 'A']\n",
      "['I', 'N', 'D', 'I', 'A', 'N']\n",
      "['I', 'N', 'D', 'I', 'A', 'N']\n",
      "1\n"
     ]
    }
   ],
   "source": [
    "## Indedxing is imp --if u want to extract table within a table sentence within a sentance, it helps.\n",
    "a= ['I','N','D','I','A','N']\n",
    "print(a)\n",
    "print(type(a))\n",
    "print(a[-1])\n",
    "\n",
    "#exercise\n",
    "#IND\n",
    "print(a[0:3])\n",
    "print(a[-6:-3])\n",
    "\n",
    "#NDIAN\n",
    "print(a[1:])\n",
    "print(a[-5: ])\n",
    "\n",
    "#NDI\n",
    "print(a[1:4])\n",
    "print(a[-5:-2])\n",
    "\n",
    "#INDI\n",
    "print(a[ :4])\n",
    "print(a[ -6:-2])\n",
    "\n",
    "#DIA \n",
    "print(a[2:5])\n",
    "print(a[-4:-1])\n",
    "\n",
    "#INDIAN\n",
    "print(a[ : ])\n",
    "print(a[-6:])\n",
    "a =[1,2,3,4]\n",
    "print(a[0])"
   ]
  },
  {
   "cell_type": "code",
   "execution_count": 80,
   "id": "b4e82fd9",
   "metadata": {},
   "outputs": [
    {
     "name": "stdout",
     "output_type": "stream",
     "text": [
      "46\n",
      "46\n",
      "[1, 3, 55, 75, 7]\n"
     ]
    },
    {
     "ename": "TypeError",
     "evalue": "'tuple' object does not support item assignment",
     "output_type": "error",
     "traceback": [
      "\u001b[1;31m---------------------------------------------------------------------------\u001b[0m",
      "\u001b[1;31mTypeError\u001b[0m                                 Traceback (most recent call last)",
      "Input \u001b[1;32mIn [80]\u001b[0m, in \u001b[0;36m<cell line: 12>\u001b[1;34m()\u001b[0m\n\u001b[0;32m      9\u001b[0m a[\u001b[38;5;241m2\u001b[39m] \u001b[38;5;241m=\u001b[39m \u001b[38;5;241m55\u001b[39m\n\u001b[0;32m     10\u001b[0m \u001b[38;5;28mprint\u001b[39m(a)\n\u001b[1;32m---> 12\u001b[0m b[\u001b[38;5;241m2\u001b[39m] \u001b[38;5;241m=\u001b[39m \u001b[38;5;241m55\u001b[39m\n\u001b[0;32m     13\u001b[0m \u001b[38;5;28mprint\u001b[39m(b)\n",
      "\u001b[1;31mTypeError\u001b[0m: 'tuple' object does not support item assignment"
     ]
    }
   ],
   "source": [
    "## simple mutability and immutability\n",
    "\n",
    "a =[1,3,46,75,7]  # list\n",
    "b =(1,3,46,75,7)  # tuple\n",
    "\n",
    "print(a[2])  #indexing if only 1 object then without colon\n",
    "print(a[2])\n",
    "\n",
    "a[2] = 55\n",
    "print(a)\n",
    "\n",
    "b[2] = 55\n",
    "print(b)  # bc tuple is immutable"
   ]
  },
  {
   "cell_type": "code",
   "execution_count": 83,
   "id": "f9481b64",
   "metadata": {},
   "outputs": [
    {
     "name": "stdout",
     "output_type": "stream",
     "text": [
      "4\n",
      "7\n",
      "[1, 2, 23, 34, 66, 5]\n"
     ]
    },
    {
     "ename": "TypeError",
     "evalue": "'tuple' object does not support item assignment",
     "output_type": "error",
     "traceback": [
      "\u001b[1;31m---------------------------------------------------------------------------\u001b[0m",
      "\u001b[1;31mTypeError\u001b[0m                                 Traceback (most recent call last)",
      "Input \u001b[1;32mIn [83]\u001b[0m, in \u001b[0;36m<cell line: 9>\u001b[1;34m()\u001b[0m\n\u001b[0;32m      7\u001b[0m a[\u001b[38;5;241m4\u001b[39m] \u001b[38;5;241m=\u001b[39m \u001b[38;5;241m66\u001b[39m\n\u001b[0;32m      8\u001b[0m \u001b[38;5;28mprint\u001b[39m(a)\n\u001b[1;32m----> 9\u001b[0m b[\u001b[38;5;241m4\u001b[39m] \u001b[38;5;241m=\u001b[39m \u001b[38;5;241m66\u001b[39m\n\u001b[0;32m     10\u001b[0m \u001b[38;5;28mprint\u001b[39m(b)\n",
      "\u001b[1;31mTypeError\u001b[0m: 'tuple' object does not support item assignment"
     ]
    }
   ],
   "source": [
    "a = [1,2,23,34,4,5]\n",
    "b =(2,3,4,5,7)\n",
    "\n",
    "print(a[4])\n",
    "print(b[4])\n",
    "\n",
    "a[4] = 66\n",
    "print(a)\n",
    "b[4] = 66\n",
    "print(b)"
   ]
  },
  {
   "cell_type": "code",
   "execution_count": 82,
   "id": "fdd6a5b7",
   "metadata": {},
   "outputs": [
    {
     "name": "stdout",
     "output_type": "stream",
     "text": [
      "True\n",
      "False\n"
     ]
    }
   ],
   "source": [
    "a = [1,2,3,4]\n",
    "\n",
    "print(3 in a)\n",
    "print(3 not in a)"
   ]
  },
  {
   "cell_type": "code",
   "execution_count": null,
   "id": "707d2c6d",
   "metadata": {},
   "outputs": [],
   "source": []
  }
 ],
 "metadata": {
  "kernelspec": {
   "display_name": "Python 3 (ipykernel)",
   "language": "python",
   "name": "python3"
  },
  "language_info": {
   "codemirror_mode": {
    "name": "ipython",
    "version": 3
   },
   "file_extension": ".py",
   "mimetype": "text/x-python",
   "name": "python",
   "nbconvert_exporter": "python",
   "pygments_lexer": "ipython3",
   "version": "3.9.12"
  }
 },
 "nbformat": 4,
 "nbformat_minor": 5
}
