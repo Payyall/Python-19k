{
 "cells": [
  {
   "cell_type": "code",
   "execution_count": 1,
   "id": "e7d67eda",
   "metadata": {},
   "outputs": [],
   "source": [
    "## Functions -- resuablility, progrrame will not be a mess,\n",
    "\n",
    "\n",
    "def hw(arg):\n",
    "    \n",
    "    print(arg*10)\n",
    "    "
   ]
  },
  {
   "cell_type": "code",
   "execution_count": 2,
   "id": "f32f8f8c",
   "metadata": {},
   "outputs": [
    {
     "name": "stdout",
     "output_type": "stream",
     "text": [
      "30\n"
     ]
    }
   ],
   "source": [
    "hw(3)"
   ]
  },
  {
   "cell_type": "code",
   "execution_count": 3,
   "id": "c6b20aaa",
   "metadata": {},
   "outputs": [],
   "source": [
    "def sm (a,b):   ## \"def\" - keyword, sm - name, smm=a+b -operation\n",
    "    \"\"This is sum function\"\"''\n",
    "    smm = a+b\n",
    "    return(smm)"
   ]
  },
  {
   "cell_type": "markdown",
   "id": "060d5e76",
   "metadata": {},
   "source": [
    "sm(10,20)"
   ]
  },
  {
   "cell_type": "code",
   "execution_count": 5,
   "id": "fca56734",
   "metadata": {},
   "outputs": [
    {
     "data": {
      "text/plain": [
       "30"
      ]
     },
     "execution_count": 5,
     "metadata": {},
     "output_type": "execute_result"
    }
   ],
   "source": [
    "sm(10,20)"
   ]
  },
  {
   "cell_type": "code",
   "execution_count": 13,
   "id": "0e6aa31b",
   "metadata": {},
   "outputs": [],
   "source": [
    "## write a function to \" welcome to python class\"\n",
    "\n",
    "def wcp():\n",
    "    print(\"welcome to python class\")\n",
    "    "
   ]
  },
  {
   "cell_type": "code",
   "execution_count": 14,
   "id": "4a792c70",
   "metadata": {},
   "outputs": [
    {
     "name": "stdout",
     "output_type": "stream",
     "text": [
      "welcome to python class\n"
     ]
    }
   ],
   "source": [
    "wcp()"
   ]
  },
  {
   "cell_type": "markdown",
   "id": "1f03aabc",
   "metadata": {},
   "source": []
  },
  {
   "cell_type": "code",
   "execution_count": 22,
   "id": "09ec7526",
   "metadata": {},
   "outputs": [],
   "source": [
    "## Function to find the difference of 2 numbers and print the difference\n",
    "def dn(a,b):\n",
    "    \"\"\"This is difference function\"\"\"\n",
    "    diffnum = a-b\n",
    "    print(\"This difference between number is \", diffnum)\n",
    "\n",
    "    "
   ]
  },
  {
   "cell_type": "code",
   "execution_count": 23,
   "id": "6ddaee81",
   "metadata": {},
   "outputs": [
    {
     "name": "stdout",
     "output_type": "stream",
     "text": [
      "This difference between number is  10\n"
     ]
    }
   ],
   "source": [
    "dn(20,10)"
   ]
  },
  {
   "cell_type": "code",
   "execution_count": 24,
   "id": "83a26075",
   "metadata": {},
   "outputs": [
    {
     "ename": "NameError",
     "evalue": "name 'start' is not defined",
     "output_type": "error",
     "traceback": [
      "\u001b[1;31m---------------------------------------------------------------------------\u001b[0m",
      "\u001b[1;31mNameError\u001b[0m                                 Traceback (most recent call last)",
      "Input \u001b[1;32mIn [24]\u001b[0m, in \u001b[0;36m<cell line: 4>\u001b[1;34m()\u001b[0m\n\u001b[0;32m      1\u001b[0m \u001b[38;5;66;03m## Range function -- generate sequence of number from a list\u001b[39;00m\n\u001b[0;32m      2\u001b[0m \n\u001b[0;32m      3\u001b[0m \u001b[38;5;66;03m# Syntax\u001b[39;00m\n\u001b[1;32m----> 4\u001b[0m \u001b[38;5;28mrange\u001b[39m(\u001b[43mstart\u001b[49m, stop, step)\n",
      "\u001b[1;31mNameError\u001b[0m: name 'start' is not defined"
     ]
    }
   ],
   "source": [
    "## Range function -- generate sequence of number from a list\n",
    "\n",
    "# Syntax\n",
    "range(start, stop, step)\n"
   ]
  },
  {
   "cell_type": "code",
   "execution_count": 25,
   "id": "fd62a520",
   "metadata": {},
   "outputs": [
    {
     "data": {
      "text/plain": [
       "[0, 1, 2, 3, 4, 5, 6, 7, 8, 9]"
      ]
     },
     "execution_count": 25,
     "metadata": {},
     "output_type": "execute_result"
    }
   ],
   "source": [
    "list(range(0,10,1))"
   ]
  },
  {
   "cell_type": "code",
   "execution_count": 28,
   "id": "35bd05c7",
   "metadata": {},
   "outputs": [
    {
     "data": {
      "text/plain": [
       "[0, 5, 10, 15, 20, 25, 30, 35, 40, 45, 50]"
      ]
     },
     "execution_count": 28,
     "metadata": {},
     "output_type": "execute_result"
    }
   ],
   "source": [
    "## difference should be 5 and print range from 1 to 51\n",
    "list(range(0,51,5)) "
   ]
  },
  {
   "cell_type": "code",
   "execution_count": 31,
   "id": "bec64cec",
   "metadata": {},
   "outputs": [
    {
     "name": "stdout",
     "output_type": "stream",
     "text": [
      "50\n"
     ]
    }
   ],
   "source": [
    "## Global variables\n",
    "a = 50  # global variable\n",
    "def number():\n",
    "    b = 30\n",
    "    print(b)\n",
    "print(a)"
   ]
  },
  {
   "cell_type": "markdown",
   "id": "be2d86c5",
   "metadata": {},
   "source": [
    "number()"
   ]
  },
  {
   "cell_type": "code",
   "execution_count": 33,
   "id": "c47f6dad",
   "metadata": {},
   "outputs": [
    {
     "name": "stdout",
     "output_type": "stream",
     "text": [
      "30\n",
      "50\n"
     ]
    }
   ],
   "source": [
    "number()"
   ]
  },
  {
   "cell_type": "code",
   "execution_count": 34,
   "id": "31e9d0e9",
   "metadata": {},
   "outputs": [],
   "source": [
    "## Global variables\n",
    "a = 50  # global variable\n",
    "def number():\n",
    "    b = 30  # local variable will only print inside the function, if the indentation is outide then it wil show error\n",
    "    print(b+a)\n",
    "    print(a)"
   ]
  },
  {
   "cell_type": "code",
   "execution_count": 35,
   "id": "299ca30d",
   "metadata": {},
   "outputs": [
    {
     "name": "stdout",
     "output_type": "stream",
     "text": [
      "80\n",
      "50\n"
     ]
    }
   ],
   "source": [
    "number()"
   ]
  },
  {
   "cell_type": "code",
   "execution_count": 36,
   "id": "bb6f3106",
   "metadata": {},
   "outputs": [],
   "source": [
    "## Lamba function -- Doesn't have a name - anonymous\n",
    "\n",
    "def add(a,b):\n",
    "    return(a+b)"
   ]
  },
  {
   "cell_type": "code",
   "execution_count": 38,
   "id": "973f7a8f",
   "metadata": {},
   "outputs": [
    {
     "data": {
      "text/plain": [
       "30"
      ]
     },
     "execution_count": 38,
     "metadata": {},
     "output_type": "execute_result"
    }
   ],
   "source": [
    "add(10,20)"
   ]
  },
  {
   "cell_type": "code",
   "execution_count": 40,
   "id": "151e0228",
   "metadata": {},
   "outputs": [],
   "source": [
    "## doing the upper one with lamda function\n",
    "ad = lambda a,b: a+b  # a,b: -- argument , a+b -- operations \n"
   ]
  },
  {
   "cell_type": "markdown",
   "id": "2a1d3d7b",
   "metadata": {},
   "source": [
    "# "
   ]
  },
  {
   "cell_type": "code",
   "execution_count": 41,
   "id": "03f04d4d",
   "metadata": {},
   "outputs": [
    {
     "data": {
      "text/plain": [
       "30"
      ]
     },
     "execution_count": 41,
     "metadata": {},
     "output_type": "execute_result"
    }
   ],
   "source": [
    "ad(10,20)"
   ]
  },
  {
   "cell_type": "code",
   "execution_count": 42,
   "id": "bdf6c6b0",
   "metadata": {},
   "outputs": [
    {
     "data": {
      "text/plain": [
       "[30, -10, 200]"
      ]
     },
     "execution_count": 42,
     "metadata": {},
     "output_type": "execute_result"
    }
   ],
   "source": [
    "# using lamda for multiple functions\n",
    "ml = lambda a,b: [(a+b),(a-b),(a*b)]\n",
    "ml(10,20)"
   ]
  },
  {
   "cell_type": "code",
   "execution_count": null,
   "id": "d4b217ef",
   "metadata": {},
   "outputs": [],
   "source": [
    "## buit in function, packages(need to install alag se) and Modules -- its like a libarary  ,  for flexibility of programe\n",
    "\n",
    "# Modules -  sys, OS , Math, Datetime, Random"
   ]
  },
  {
   "cell_type": "code",
   "execution_count": 44,
   "id": "3520df3d",
   "metadata": {},
   "outputs": [
    {
     "name": "stdout",
     "output_type": "stream",
     "text": [
      "['C:\\\\Users\\\\win10\\\\anaconda3\\\\lib\\\\site-packages\\\\ipykernel_launcher.py', '-f', 'C:\\\\Users\\\\win10\\\\AppData\\\\Roaming\\\\jupyter\\\\runtime\\\\kernel-8c7c2d2e-ae79-40b2-8dd9-467083f5c892.json']\n",
      "3.9.12 (main, Apr  4 2022, 05:22:27) [MSC v.1916 64 bit (AMD64)]\n"
     ]
    }
   ],
   "source": [
    "## Sys Modules --   system related  information\n",
    "\n",
    "import sys\n",
    "print(sys.argv)\n",
    "print(sys.version)\n"
   ]
  },
  {
   "cell_type": "code",
   "execution_count": 45,
   "id": "bc3480f5",
   "metadata": {},
   "outputs": [
    {
     "name": "stdout",
     "output_type": "stream",
     "text": [
      "C:\\Users\\win10\\Desktop\\ed 19\\py\\python\n",
      "nt\n"
     ]
    }
   ],
   "source": [
    "## OS modules - current working diractory\n",
    "import os\n",
    "print(os.getcwd()) ## Cureent working directory\n",
    "\n",
    "# os.chdir(\"ADDRESS\") - change the directory\n",
    "\n",
    "print(os.name)\n",
    "print(os.enviro)"
   ]
  },
  {
   "cell_type": "code",
   "execution_count": 47,
   "id": "37c5fdd9",
   "metadata": {},
   "outputs": [
    {
     "name": "stdout",
     "output_type": "stream",
     "text": [
      "C:\\Users\\win10\\Desktop\\ed 19\\py\\python\n",
      "nt\n",
      "environ({'ALLUSERSPROFILE': 'C:\\\\ProgramData', 'APPDATA': 'C:\\\\Users\\\\win10\\\\AppData\\\\Roaming', 'COMMONPROGRAMFILES': 'C:\\\\Program Files\\\\Common Files', 'COMMONPROGRAMFILES(X86)': 'C:\\\\Program Files (x86)\\\\Common Files', 'COMMONPROGRAMW6432': 'C:\\\\Program Files\\\\Common Files', 'COMPUTERNAME': 'DESKTOP-IS9DHB1', 'COMSPEC': 'C:\\\\WINDOWS\\\\system32\\\\cmd.exe', 'DRIVERDATA': 'C:\\\\Windows\\\\System32\\\\Drivers\\\\DriverData', 'FPS_BROWSER_APP_PROFILE_STRING': 'Internet Explorer', 'FPS_BROWSER_USER_PROFILE_STRING': 'Default', 'HOMEDRIVE': 'C:', 'HOMEPATH': '\\\\Users\\\\win10', 'LOCALAPPDATA': 'C:\\\\Users\\\\win10\\\\AppData\\\\Local', 'LOGONSERVER': '\\\\\\\\DESKTOP-IS9DHB1', 'NUMBER_OF_PROCESSORS': '4', 'ONEDRIVE': 'C:\\\\Users\\\\win10\\\\OneDrive', 'OS': 'Windows_NT', 'PATH': 'C:\\\\Users\\\\win10\\\\anaconda3;C:\\\\Users\\\\win10\\\\anaconda3\\\\Library\\\\mingw-w64\\\\bin;C:\\\\Users\\\\win10\\\\anaconda3\\\\Library\\\\usr\\\\bin;C:\\\\Users\\\\win10\\\\anaconda3\\\\Library\\\\bin;C:\\\\Users\\\\win10\\\\anaconda3\\\\Scripts;C:\\\\WINDOWS\\\\system32;C:\\\\WINDOWS;C:\\\\WINDOWS\\\\System32\\\\Wbem;C:\\\\WINDOWS\\\\System32\\\\WindowsPowerShell\\\\v1.0\\\\;C:\\\\WINDOWS\\\\System32\\\\OpenSSH\\\\;C:\\\\Users\\\\win10\\\\AppData\\\\Local\\\\Programs\\\\Python\\\\Python310\\\\Scripts\\\\;C:\\\\Users\\\\win10\\\\AppData\\\\Local\\\\Programs\\\\Python\\\\Python310\\\\;C:\\\\Users\\\\win10\\\\AppData\\\\Local\\\\Microsoft\\\\WindowsApps;', 'PATHEXT': '.COM;.EXE;.BAT;.CMD;.VBS;.VBE;.JS;.JSE;.WSF;.WSH;.MSC', 'PROCESSOR_ARCHITECTURE': 'AMD64', 'PROCESSOR_IDENTIFIER': 'Intel64 Family 6 Model 61 Stepping 4, GenuineIntel', 'PROCESSOR_LEVEL': '6', 'PROCESSOR_REVISION': '3d04', 'PROGRAMDATA': 'C:\\\\ProgramData', 'PROGRAMFILES': 'C:\\\\Program Files', 'PROGRAMFILES(X86)': 'C:\\\\Program Files (x86)', 'PROGRAMW6432': 'C:\\\\Program Files', 'PSMODULEPATH': 'C:\\\\Program Files\\\\WindowsPowerShell\\\\Modules;C:\\\\WINDOWS\\\\system32\\\\WindowsPowerShell\\\\v1.0\\\\Modules', 'PUBLIC': 'C:\\\\Users\\\\Public', 'SESSIONNAME': 'Console', 'SYNAPROGDIR': 'Synaptics\\\\SynTP', 'SYSTEMDRIVE': 'C:', 'SYSTEMROOT': 'C:\\\\WINDOWS', 'TEMP': 'C:\\\\Users\\\\win10\\\\AppData\\\\Local\\\\Temp', 'TMP': 'C:\\\\Users\\\\win10\\\\AppData\\\\Local\\\\Temp', 'USERDOMAIN': 'DESKTOP-IS9DHB1', 'USERDOMAIN_ROAMINGPROFILE': 'DESKTOP-IS9DHB1', 'USERNAME': 'win10', 'USERPROFILE': 'C:\\\\Users\\\\win10', 'WINDIR': 'C:\\\\WINDOWS', 'CONDA_PREFIX': 'C:\\\\Users\\\\win10\\\\anaconda3', 'PYDEVD_USE_FRAME_EVAL': 'NO', 'JPY_INTERRUPT_EVENT': '2948', 'IPY_INTERRUPT_EVENT': '2948', 'JPY_PARENT_PID': '2932', 'TERM': 'xterm-color', 'CLICOLOR': '1', 'PAGER': 'cat', 'GIT_PAGER': 'cat', 'MPLBACKEND': 'module://matplotlib_inline.backend_inline'})\n"
     ]
    }
   ],
   "source": [
    "import os\n",
    "print(os.getcwd()) ## Cureent working directory\n",
    "\n",
    "# os.chdir(\"ADDRESS\") - change the directory\n",
    "\n",
    "print(os.name)\n",
    "print(os.environ)"
   ]
  },
  {
   "cell_type": "code",
   "execution_count": 48,
   "id": "c9bb73f1",
   "metadata": {},
   "outputs": [
    {
     "name": "stdout",
     "output_type": "stream",
     "text": [
      "00:00:00\n"
     ]
    }
   ],
   "source": [
    "## Datatime\n",
    "import datetime\n",
    "print(datetime.time())"
   ]
  },
  {
   "cell_type": "code",
   "execution_count": 51,
   "id": "600e240f",
   "metadata": {},
   "outputs": [
    {
     "name": "stdout",
     "output_type": "stream",
     "text": [
      "<method 'time' of 'datetime.datetime' objects>\n",
      "2022-07-16 17:34:35.444365\n"
     ]
    }
   ],
   "source": [
    "import datetime\n",
    "from datetime import datetime\n",
    "print(datetime.time)\n",
    "print(datetime.now())"
   ]
  },
  {
   "cell_type": "code",
   "execution_count": 75,
   "id": "8b7651c4",
   "metadata": {},
   "outputs": [
    {
     "name": "stdout",
     "output_type": "stream",
     "text": [
      "60\n"
     ]
    }
   ],
   "source": [
    "## Random module --- enter -- control+enter to see the magic.\n",
    "import random\n",
    "\n",
    "print(random.randrange(0,100,20))"
   ]
  },
  {
   "cell_type": "code",
   "execution_count": 71,
   "id": "f2104d8e",
   "metadata": {},
   "outputs": [
    {
     "name": "stdout",
     "output_type": "stream",
     "text": [
      "56\n"
     ]
    }
   ],
   "source": [
    "import random\n",
    "\n",
    "print(random.randrange(0,100,7))"
   ]
  },
  {
   "cell_type": "markdown",
   "id": "c60fa768",
   "metadata": {},
   "source": []
  }
 ],
 "metadata": {
  "kernelspec": {
   "display_name": "Python 3 (ipykernel)",
   "language": "python",
   "name": "python3"
  },
  "language_info": {
   "codemirror_mode": {
    "name": "ipython",
    "version": 3
   },
   "file_extension": ".py",
   "mimetype": "text/x-python",
   "name": "python",
   "nbconvert_exporter": "python",
   "pygments_lexer": "ipython3",
   "version": "3.9.12"
  }
 },
 "nbformat": 4,
 "nbformat_minor": 5
}
