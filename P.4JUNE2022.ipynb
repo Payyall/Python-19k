{
 "cells": [
  {
   "cell_type": "code",
   "execution_count": 1,
   "id": "a7e58b51",
   "metadata": {},
   "outputs": [],
   "source": [
    "## Comment     # anything followed by a \"#\" is a comment\n",
    "\n",
    "print \n",
    "as if and import # this all are coming in green so these all are keywords.\n",
    "## anything that is not coming in green is either a literal or a identifier\n"
   ]
  },
  {
   "cell_type": "code",
   "execution_count": 34,
   "id": "fd0e56d1",
   "metadata": {},
   "outputs": [
    {
     "name": "stdout",
     "output_type": "stream",
     "text": [
      "10\n",
      "10\n",
      "99\n",
      "90\n",
      "2\n",
      "10\n",
      "200\n"
     ]
    }
   ],
   "source": [
    "## keywords and identifiers\n",
    "\n",
    "name = 10 #-- identifiers\n",
    "print(name)  #--- keywords\n",
    "\n",
    "##class work \n",
    "    # 3 variable name that will work\n",
    "_people = 10\n",
    "print(_people)\n",
    "\n",
    "_1234get = 99\n",
    "print(_1234get)\n",
    "\n",
    "name = 90\n",
    "print(name)\n",
    "\n",
    "N1234ame = 2\n",
    "print(N1234ame)\n",
    "\n",
    "_Name = 10\n",
    "print(_Name)\n",
    "\n",
    "\n",
    "payal_123 = 200\n",
    "print(payal_123)\n",
    "\n",
    "## this all are valid keywords"
   ]
  },
  {
   "cell_type": "code",
   "execution_count": 35,
   "id": "47e3b795",
   "metadata": {},
   "outputs": [
    {
     "ename": "IndentationError",
     "evalue": "unexpected indent (223733000.py, line 4)",
     "output_type": "error",
     "traceback": [
      "\u001b[1;36m  Input \u001b[1;32mIn [35]\u001b[1;36m\u001b[0m\n\u001b[1;33m    print(jim)\u001b[0m\n\u001b[1;37m    ^\u001b[0m\n\u001b[1;31mIndentationError\u001b[0m\u001b[1;31m:\u001b[0m unexpected indent\n"
     ]
    }
   ],
   "source": [
    "# 3 unvalid usernames(identifiers)\n",
    " \n",
    "    #jim =20\n",
    "    print(jim)\n",
    "    \n",
    "    @omg=6\n",
    "    print(@omg)\n",
    "    \n",
    "    /ohno = 6\n",
    "    print(/ohno)\n",
    "    \n",
    "    \n",
    "    *dee= 5\n",
    "    print(*dee)\n",
    "    "
   ]
  },
  {
   "cell_type": "code",
   "execution_count": 36,
   "id": "ecb5c94d",
   "metadata": {},
   "outputs": [
    {
     "name": "stdout",
     "output_type": "stream",
     "text": [
      "15\n",
      "5\n",
      "50\n",
      "2.0\n",
      "0\n",
      "100000\n",
      "2828.0\n"
     ]
    }
   ],
   "source": [
    "## Operates in pythons\n",
    "\n",
    "#1 Arithmetic opertaors -- +-*/\n",
    " \n",
    "    \n",
    "print(10+5)\n",
    "print(10-5)\n",
    "print(10*5)\n",
    "print(10/5)\n",
    "print(10%5)  # modulus-- reminder\n",
    "print(10**5)  # e to the power something\n",
    "\n",
    "print(10+20/5*705-70%4)"
   ]
  },
  {
   "cell_type": "code",
   "execution_count": 24,
   "id": "7d4b40f4",
   "metadata": {},
   "outputs": [
    {
     "name": "stdout",
     "output_type": "stream",
     "text": [
      "10\n",
      "20\n",
      "10\n",
      "100\n",
      "10.0\n",
      "0.0\n",
      "0.0\n"
     ]
    }
   ],
   "source": [
    "\n",
    "#2 Assigment operators -- means assigning things\n",
    "\n",
    "a=10 # so here \"a \" is an assigment operator; a is a variable and you are assigning a is equal to 10\n",
    "print(a)\n",
    "\n",
    "a+=10   # a = a+10\n",
    "print(a)\n",
    "\n",
    "a-=10   # a = a-10 \n",
    "print(a)\n",
    "\n",
    "a*=10  # a = a *10\n",
    "print(a)\n",
    "\n",
    "a/=10  # a = a/10\n",
    "print(a)\n",
    "\n",
    "a%=10  # a = a%10\n",
    "print(a)\n",
    "\n",
    "a**=10   # a = a**10\n",
    "print(a)"
   ]
  },
  {
   "cell_type": "code",
   "execution_count": 38,
   "id": "2dd4e156",
   "metadata": {},
   "outputs": [
    {
     "name": "stdout",
     "output_type": "stream",
     "text": [
      "False\n",
      "True\n",
      "False\n",
      "True\n",
      "False\n",
      "True\n",
      "True\n",
      "True\n",
      "True\n"
     ]
    }
   ],
   "source": [
    "## Comparision operators\n",
    "\n",
    "print(10==20)  # weather both are equal to each other or not\n",
    "print(10!=20)  # not equal to each other\n",
    "print(10>20)   # 10 is greater than 20\n",
    "print(10<20)  # less than\n",
    "print(10>= 20) #greater than equal to\n",
    "print(10<= 20) #less than equal to\n",
    "print(10==10) \n",
    "print(20==20) \n",
    "print(30>=30)\n",
    "## if i will not add print in front then it will show syntax error, for one code it will run without print but for more than that it will not work."
   ]
  },
  {
   "cell_type": "code",
   "execution_count": 39,
   "id": "9a9d9b11",
   "metadata": {},
   "outputs": [
    {
     "name": "stdout",
     "output_type": "stream",
     "text": [
      "True\n",
      "True\n",
      "True\n",
      "False\n"
     ]
    }
   ],
   "source": [
    "## in terms of variable\n",
    "\n",
    "a = (10==10)\n",
    "print(a)\n",
    "\n",
    "a= (20!=10)\n",
    "print(a)\n",
    "\n",
    "a= (30>20)\n",
    "print(a)\n",
    "\n",
    "\n",
    "a=(40==4)\n",
    "print(a)"
   ]
  },
  {
   "cell_type": "code",
   "execution_count": null,
   "id": "8459fa4a",
   "metadata": {},
   "outputs": [],
   "source": []
  },
  {
   "cell_type": "code",
   "execution_count": null,
   "id": "9f845cd9",
   "metadata": {},
   "outputs": [],
   "source": []
  },
  {
   "cell_type": "code",
   "execution_count": null,
   "id": "9ebe2cca",
   "metadata": {},
   "outputs": [],
   "source": []
  },
  {
   "cell_type": "code",
   "execution_count": null,
   "id": "f97385a8",
   "metadata": {},
   "outputs": [],
   "source": []
  },
  {
   "cell_type": "code",
   "execution_count": null,
   "id": "62a9ea52",
   "metadata": {},
   "outputs": [],
   "source": []
  }
 ],
 "metadata": {
  "kernelspec": {
   "display_name": "Python 3 (ipykernel)",
   "language": "python",
   "name": "python3"
  },
  "language_info": {
   "codemirror_mode": {
    "name": "ipython",
    "version": 3
   },
   "file_extension": ".py",
   "mimetype": "text/x-python",
   "name": "python",
   "nbconvert_exporter": "python",
   "pygments_lexer": "ipython3",
   "version": "3.9.12"
  }
 },
 "nbformat": 4,
 "nbformat_minor": 5
}
