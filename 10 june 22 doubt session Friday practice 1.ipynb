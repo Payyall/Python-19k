{
 "cells": [
  {
   "cell_type": "code",
   "execution_count": 4,
   "id": "74905d5a",
   "metadata": {},
   "outputs": [
    {
     "name": "stdout",
     "output_type": "stream",
     "text": [
      "10\n"
     ]
    }
   ],
   "source": [
    "## if then statement\n",
    "\n",
    "\n",
    "x = 10 \n",
    "if x < 4:\n",
    "    y = x*2\n",
    "print (x)\n",
    "    "
   ]
  },
  {
   "cell_type": "code",
   "execution_count": 3,
   "id": "5e90fa62",
   "metadata": {},
   "outputs": [
    {
     "name": "stdout",
     "output_type": "stream",
     "text": [
      "20\n"
     ]
    }
   ],
   "source": [
    "x = 10 \n",
    "if x > 4:\n",
    "    y = x*2\n",
    "print (y)\n",
    "    "
   ]
  },
  {
   "cell_type": "code",
   "execution_count": 8,
   "id": "26ae6b1a",
   "metadata": {},
   "outputs": [
    {
     "name": "stdout",
     "output_type": "stream",
     "text": [
      "2.0\n"
     ]
    }
   ],
   "source": [
    "x = 10 \n",
    "if x < 20:\n",
    "    y = x*2/10\n",
    "print (y)\n",
    "    "
   ]
  },
  {
   "cell_type": "code",
   "execution_count": 12,
   "id": "9d914dcc",
   "metadata": {},
   "outputs": [
    {
     "name": "stdout",
     "output_type": "stream",
     "text": [
      "98.01\n"
     ]
    }
   ],
   "source": [
    "x = 99\n",
    "if x > 4:\n",
    "    y = 99*1*x/100\n",
    "print (y)\n",
    "    "
   ]
  },
  {
   "cell_type": "code",
   "execution_count": 14,
   "id": "5f6f8a40",
   "metadata": {},
   "outputs": [
    {
     "name": "stdout",
     "output_type": "stream",
     "text": [
      "1320\n"
     ]
    }
   ],
   "source": [
    "y=55\n",
    "if y>5:\n",
    "    x=8*3*y\n",
    "    print(x)"
   ]
  },
  {
   "cell_type": "code",
   "execution_count": 19,
   "id": "9d51a8e4",
   "metadata": {},
   "outputs": [
    {
     "name": "stdout",
     "output_type": "stream",
     "text": [
      "5000.0\n"
     ]
    }
   ],
   "source": [
    "g=1000\n",
    "if g > 100:\n",
    "    x= 10/2*g\n",
    "    print(x)"
   ]
  },
  {
   "cell_type": "code",
   "execution_count": 31,
   "id": "fe7219e6",
   "metadata": {},
   "outputs": [
    {
     "name": "stdout",
     "output_type": "stream",
     "text": [
      "0.1\n"
     ]
    }
   ],
   "source": [
    "Y=100\n",
    "if Y>19:\n",
    "    V= 10/100\n",
    "    print(V)\n",
    "    "
   ]
  },
  {
   "cell_type": "code",
   "execution_count": 36,
   "id": "3970791d",
   "metadata": {},
   "outputs": [
    {
     "name": "stdout",
     "output_type": "stream",
     "text": [
      "296\n"
     ]
    }
   ],
   "source": [
    "z= 99\n",
    "if z < 100:\n",
    "    h = 3^3*z^2\n",
    "    print(h)"
   ]
  },
  {
   "cell_type": "code",
   "execution_count": 75,
   "id": "1a95627b",
   "metadata": {},
   "outputs": [
    {
     "name": "stdout",
     "output_type": "stream",
     "text": [
      "33\n",
      "663\n"
     ]
    }
   ],
   "source": [
    "f=33\n",
    "if x>99:\n",
    "    k=20*f^3\n",
    "    print(f)\n",
    "    \n",
    "    f=33\n",
    "if x>99:\n",
    "    k=20*f^3\n",
    "    print(k)\n",
    "    \n",
    "    y=1\n",
    "if y>1:\n",
    "    h= 6*10*y\n",
    "    print(y)\n",
    "    \n",
    "i= 3\n",
    "if i>3:\n",
    "    h= 3*i/9\n",
    "    print(h)"
   ]
  },
  {
   "cell_type": "code",
   "execution_count": 52,
   "id": "2608682f",
   "metadata": {},
   "outputs": [
    {
     "name": "stdout",
     "output_type": "stream",
     "text": [
      "33\n",
      "0\n"
     ]
    }
   ],
   "source": [
    "f=33\n",
    "if x>99:\n",
    "    k=20*f^3\n",
    "    print(f)\n",
    "    \n",
    "    f=0\n",
    "if x>-1:\n",
    "    k=20*f^3\n",
    "    print(f)\n",
    "    \n",
    "o=1\n",
    "if o>1:\n",
    "    h= 6*10*o\n",
    "    print(h)"
   ]
  },
  {
   "cell_type": "code",
   "execution_count": 6,
   "id": "0f4b6e87",
   "metadata": {},
   "outputs": [],
   "source": []
  },
  {
   "cell_type": "code",
   "execution_count": 27,
   "id": "50d077b8",
   "metadata": {},
   "outputs": [
    {
     "name": "stdout",
     "output_type": "stream",
     "text": [
      "0\n",
      "26\n",
      "96\n",
      "6\n"
     ]
    }
   ],
   "source": [
    "## LOGICAL OPERATORS\n",
    "\n",
    "a = 24\n",
    "b = 2\n",
    "a &= b\n",
    "print (a)\n",
    "\n",
    "c=24\n",
    "d=2\n",
    "c ^= d\n",
    "print(c)\n",
    "\n",
    "e= 24\n",
    "f= 2\n",
    "e <<= f\n",
    "print(e)\n",
    "\n",
    "g=24\n",
    "h=2\n",
    "g >>= h\n",
    "print(g)"
   ]
  },
  {
   "cell_type": "code",
   "execution_count": 98,
   "id": "bc5d5209",
   "metadata": {},
   "outputs": [
    {
     "name": "stdout",
     "output_type": "stream",
     "text": [
      "660\n",
      "1\n",
      "1.0\n"
     ]
    }
   ],
   "source": [
    "h=66\n",
    "if h>55:\n",
    "    k= 10*h\n",
    "    print(k)\n",
    "    \n",
    "y=1\n",
    "if y>=1:\n",
    "    h= 6*10*y   \n",
    "    print(y)\n",
    "    \n",
    "i=3      \n",
    "if i>=3:\n",
    "    h= 3*i/9\n",
    "    print(h)"
   ]
  },
  {
   "cell_type": "code",
   "execution_count": 2,
   "id": "c200ff38",
   "metadata": {},
   "outputs": [
    {
     "name": "stdout",
     "output_type": "stream",
     "text": [
      "155\n",
      "Input an integer5\n",
      "615\n",
      "5\n",
      "55\n",
      "555\n"
     ]
    }
   ],
   "source": [
    "# 10. Write a python program that accepts an interger (n) and computes the value\n",
    "# the value of n+nn+nnn.\n",
    "# Sample value of n is S\n",
    "\n",
    "n=5\n",
    "print((n*n*n) +(n*n) +n)\n",
    "\n",
    "a= int(input(\"Input an integer\"))\n",
    "n1 = int(\"%s\" % a)\n",
    "n2 = int(\"%s%s\" % (a,a))\n",
    "n3 = int((\"%s%s%s\" % (a,a,a)))\n",
    "print(n1+n2+n3)\n",
    "print(n1)\n",
    "print(n2)\n",
    "print(n3)"
   ]
  },
  {
   "cell_type": "code",
   "execution_count": 7,
   "id": "623a5dcb",
   "metadata": {},
   "outputs": [],
   "source": [
    "y=1\n",
    "if y>1:\n",
    "    h= 6*10*y\n",
    "    print(y)\n",
    "    \n",
    "i= 3\n",
    "if i>3:\n",
    "    h= 3*i/9\n",
    "    print(h)"
   ]
  },
  {
   "cell_type": "code",
   "execution_count": null,
   "id": "548c8a45",
   "metadata": {},
   "outputs": [],
   "source": []
  }
 ],
 "metadata": {
  "kernelspec": {
   "display_name": "Python 3 (ipykernel)",
   "language": "python",
   "name": "python3"
  },
  "language_info": {
   "codemirror_mode": {
    "name": "ipython",
    "version": 3
   },
   "file_extension": ".py",
   "mimetype": "text/x-python",
   "name": "python",
   "nbconvert_exporter": "python",
   "pygments_lexer": "ipython3",
   "version": "3.9.12"
  }
 },
 "nbformat": 4,
 "nbformat_minor": 5
}
