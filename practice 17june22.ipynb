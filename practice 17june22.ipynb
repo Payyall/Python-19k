{
 "cells": [
  {
   "cell_type": "code",
   "execution_count": 7,
   "id": "92b4d980",
   "metadata": {},
   "outputs": [],
   "source": [
    "## Pass statement   \n",
    "\n",
    "def funt():\n",
    "    pass\n",
    "    \n",
    "    print(\"The function is ok\") "
   ]
  },
  {
   "cell_type": "code",
   "execution_count": 8,
   "id": "142604ca",
   "metadata": {},
   "outputs": [
    {
     "name": "stdout",
     "output_type": "stream",
     "text": [
      "Payal\n",
      "Payal\n",
      "Payal\n",
      "Payal\n",
      "Payal\n"
     ]
    }
   ],
   "source": [
    "def a(count,msg):\n",
    "    while count>0:\n",
    "        count-=1\n",
    "        print(msg)\n",
    "        \n",
    "a(5, 'Payal')        "
   ]
  },
  {
   "cell_type": "code",
   "execution_count": 9,
   "id": "abb1651e",
   "metadata": {},
   "outputs": [
    {
     "data": {
      "text/plain": [
       "'Payal'"
      ]
     },
     "execution_count": 9,
     "metadata": {},
     "output_type": "execute_result"
    }
   ],
   "source": [
    "def a(count,msg):\n",
    "    while count>0:\n",
    "        count-=1\n",
    "        return(msg)\n",
    "        \n",
    "a(5, 'Payal')        "
   ]
  },
  {
   "cell_type": "code",
   "execution_count": 10,
   "id": "4271bce9",
   "metadata": {},
   "outputs": [
    {
     "data": {
      "text/plain": [
       "'Payal'"
      ]
     },
     "execution_count": 10,
     "metadata": {},
     "output_type": "execute_result"
    }
   ],
   "source": [
    "def a(count,msg):\n",
    "    while count>0:\n",
    "        count-=1\n",
    "        return(msg)\n",
    "        print('this code')    ## whatever there is after \"return \" statement it is written only one time.\n",
    "        \n",
    "a(5, 'Payal')        "
   ]
  },
  {
   "cell_type": "code",
   "execution_count": 16,
   "id": "6d8a69e2",
   "metadata": {},
   "outputs": [
    {
     "name": "stdout",
     "output_type": "stream",
     "text": [
      "--------------------"
     ]
    }
   ],
   "source": [
    "size=5\n",
    "for i in range(1,size):\n",
    "    print(\"-\"*(2*(size-i)),end=\"\")\n",
    "    for j in range(size+96,96+size-1):\n",
    "        print(chr(j)+'-',end=\"\")\n",
    "        print(\"-\"*(2*(size-i-1)),end=\"\")\n",
    "        print(\"\")"
   ]
  },
  {
   "cell_type": "code",
   "execution_count": 17,
   "id": "cbe807ef",
   "metadata": {},
   "outputs": [
    {
     "name": "stdout",
     "output_type": "stream",
     "text": [
      "asdf\n",
      "Hello, World.\n",
      "asdf\n"
     ]
    }
   ],
   "source": [
    "x=input()\n",
    "print(\"Hello, World.\")\n",
    "print(x)"
   ]
  },
  {
   "cell_type": "code",
   "execution_count": 18,
   "id": "b38bdf38",
   "metadata": {},
   "outputs": [
    {
     "name": "stdout",
     "output_type": "stream",
     "text": [
      "payal\n",
      "Hello, World.\n",
      "payal\n"
     ]
    }
   ],
   "source": [
    "x=input()\n",
    "print(\"Hello, World.\")\n",
    "print(x)"
   ]
  },
  {
   "cell_type": "code",
   "execution_count": 19,
   "id": "e94187ba",
   "metadata": {},
   "outputs": [
    {
     "name": "stdout",
     "output_type": "stream",
     "text": [
      "i am so beautiufl. i love you beauty\n",
      "Hello, World.\n",
      "i am so beautiufl. i love you beauty\n"
     ]
    }
   ],
   "source": [
    "x=input()\n",
    "print(\"Hello, World.\")\n",
    "print(x)"
   ]
  },
  {
   "cell_type": "code",
   "execution_count": 20,
   "id": "49f69a37",
   "metadata": {},
   "outputs": [
    {
     "name": "stdout",
     "output_type": "stream",
     "text": [
      "i am healthy, wealthy, i am rich i am that bitch. \n",
      "Hello, World.\n",
      "i am healthy, wealthy, i am rich i am that bitch. \n"
     ]
    }
   ],
   "source": [
    "x=input()\n",
    "print(\"Hello, World.\")\n",
    "print(x)"
   ]
  },
  {
   "cell_type": "code",
   "execution_count": null,
   "id": "a81ba6f2",
   "metadata": {},
   "outputs": [],
   "source": []
  }
 ],
 "metadata": {
  "kernelspec": {
   "display_name": "Python 3 (ipykernel)",
   "language": "python",
   "name": "python3"
  },
  "language_info": {
   "codemirror_mode": {
    "name": "ipython",
    "version": 3
   },
   "file_extension": ".py",
   "mimetype": "text/x-python",
   "name": "python",
   "nbconvert_exporter": "python",
   "pygments_lexer": "ipython3",
   "version": "3.9.12"
  }
 },
 "nbformat": 4,
 "nbformat_minor": 5
}
